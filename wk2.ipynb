{
 "cells": [
  {
   "cell_type": "markdown",
   "metadata": {},
   "source": [
    "#                                                   Accident  Severity Predictor"
   ]
  },
  {
   "cell_type": "markdown",
   "metadata": {},
   "source": [
    "##  Introduction           "
   ]
  },
  {
   "cell_type": "markdown",
   "metadata": {},
   "source": [
    "Driving is a necessity now for various reasons. People need to drive for work, for attending personal trips, for droping family members, for shopping etc. Having a personal car and ability to drive actually make a person independent.\n",
    "\n",
    "\n",
    "However with the heavy traffic, driving skills, bad weather chances of happening an accident is very high. The chaos that an accident make will really damage the life of impacted people it can even cause death.If there is a way that can let people know the chances of getting into an accident and the severity of accident they can take some precautionary measure to avoid it.This project aims to build a model that predict the severity of accident.\n",
    "\n"
   ]
  },
  {
   "cell_type": "markdown",
   "metadata": {},
   "source": [
    "## DataSource"
   ]
  },
  {
   "cell_type": "code",
   "execution_count": null,
   "metadata": {},
   "outputs": [],
   "source": [
    "The dataset I will be using is Data-Collisions.csv and MetaData.pdf. I have got from the Applied Data Sciene Capstone Week1 session.There are total 37 columns \n",
    "in the csv file, I need to drop unnecessary one and clean the data for junk or empty values. Important fields that I will be using to predit the accident will\n",
    "be Location, Road condition, Weather condition, Junction, Car speeding, number of people involved, Light conditions, number of vehicles involved in."
   ]
  }
 ],
 "metadata": {
  "kernelspec": {
   "display_name": "Python 3",
   "language": "python",
   "name": "python3"
  },
  "language_info": {
   "codemirror_mode": {
    "name": "ipython",
    "version": 3
   },
   "file_extension": ".py",
   "mimetype": "text/x-python",
   "name": "python",
   "nbconvert_exporter": "python",
   "pygments_lexer": "ipython3",
   "version": "3.7.6"
  }
 },
 "nbformat": 4,
 "nbformat_minor": 4
}
